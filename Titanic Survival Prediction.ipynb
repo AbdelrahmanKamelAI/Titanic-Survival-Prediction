{
 "cells": [
  {
   "cell_type": "markdown",
   "metadata": {},
   "source": [
    "# Importing Required Libraries"
   ]
  },
  {
   "cell_type": "code",
   "execution_count": 1,
   "metadata": {},
   "outputs": [],
   "source": [
    "import numpy as np\n",
    "import pandas as pd\n",
    "import seaborn as sns\n",
    "import matplotlib.pyplot as plt\n",
    "from IPython.display import display \n",
    "from sklearn.metrics import accuracy_score\n",
    "%matplotlib inline"
   ]
  },
  {
   "cell_type": "markdown",
   "metadata": {},
   "source": [
    "# Loading and Preparing the Dataset"
   ]
  },
  {
   "cell_type": "code",
   "execution_count": 2,
   "metadata": {},
   "outputs": [
    {
     "data": {
      "text/html": [
       "<div>\n",
       "<style scoped>\n",
       "    .dataframe tbody tr th:only-of-type {\n",
       "        vertical-align: middle;\n",
       "    }\n",
       "\n",
       "    .dataframe tbody tr th {\n",
       "        vertical-align: top;\n",
       "    }\n",
       "\n",
       "    .dataframe thead th {\n",
       "        text-align: right;\n",
       "    }\n",
       "</style>\n",
       "<table border=\"1\" class=\"dataframe\">\n",
       "  <thead>\n",
       "    <tr style=\"text-align: right;\">\n",
       "      <th></th>\n",
       "      <th>PassengerId</th>\n",
       "      <th>Survived</th>\n",
       "      <th>Pclass</th>\n",
       "      <th>Name</th>\n",
       "      <th>Sex</th>\n",
       "      <th>Age</th>\n",
       "      <th>SibSp</th>\n",
       "      <th>Parch</th>\n",
       "      <th>Ticket</th>\n",
       "      <th>Fare</th>\n",
       "      <th>Cabin</th>\n",
       "      <th>Embarked</th>\n",
       "    </tr>\n",
       "  </thead>\n",
       "  <tbody>\n",
       "    <tr>\n",
       "      <th>0</th>\n",
       "      <td>1</td>\n",
       "      <td>0</td>\n",
       "      <td>3</td>\n",
       "      <td>Braund, Mr. Owen Harris</td>\n",
       "      <td>male</td>\n",
       "      <td>22.0</td>\n",
       "      <td>1</td>\n",
       "      <td>0</td>\n",
       "      <td>A/5 21171</td>\n",
       "      <td>7.2500</td>\n",
       "      <td>NaN</td>\n",
       "      <td>S</td>\n",
       "    </tr>\n",
       "    <tr>\n",
       "      <th>1</th>\n",
       "      <td>2</td>\n",
       "      <td>1</td>\n",
       "      <td>1</td>\n",
       "      <td>Cumings, Mrs. John Bradley (Florence Briggs Th...</td>\n",
       "      <td>female</td>\n",
       "      <td>38.0</td>\n",
       "      <td>1</td>\n",
       "      <td>0</td>\n",
       "      <td>PC 17599</td>\n",
       "      <td>71.2833</td>\n",
       "      <td>C85</td>\n",
       "      <td>C</td>\n",
       "    </tr>\n",
       "    <tr>\n",
       "      <th>2</th>\n",
       "      <td>3</td>\n",
       "      <td>1</td>\n",
       "      <td>3</td>\n",
       "      <td>Heikkinen, Miss. Laina</td>\n",
       "      <td>female</td>\n",
       "      <td>26.0</td>\n",
       "      <td>0</td>\n",
       "      <td>0</td>\n",
       "      <td>STON/O2. 3101282</td>\n",
       "      <td>7.9250</td>\n",
       "      <td>NaN</td>\n",
       "      <td>S</td>\n",
       "    </tr>\n",
       "    <tr>\n",
       "      <th>3</th>\n",
       "      <td>4</td>\n",
       "      <td>1</td>\n",
       "      <td>1</td>\n",
       "      <td>Futrelle, Mrs. Jacques Heath (Lily May Peel)</td>\n",
       "      <td>female</td>\n",
       "      <td>35.0</td>\n",
       "      <td>1</td>\n",
       "      <td>0</td>\n",
       "      <td>113803</td>\n",
       "      <td>53.1000</td>\n",
       "      <td>C123</td>\n",
       "      <td>S</td>\n",
       "    </tr>\n",
       "    <tr>\n",
       "      <th>4</th>\n",
       "      <td>5</td>\n",
       "      <td>0</td>\n",
       "      <td>3</td>\n",
       "      <td>Allen, Mr. William Henry</td>\n",
       "      <td>male</td>\n",
       "      <td>35.0</td>\n",
       "      <td>0</td>\n",
       "      <td>0</td>\n",
       "      <td>373450</td>\n",
       "      <td>8.0500</td>\n",
       "      <td>NaN</td>\n",
       "      <td>S</td>\n",
       "    </tr>\n",
       "  </tbody>\n",
       "</table>\n",
       "</div>"
      ],
      "text/plain": [
       "   PassengerId  Survived  Pclass  \\\n",
       "0            1         0       3   \n",
       "1            2         1       1   \n",
       "2            3         1       3   \n",
       "3            4         1       1   \n",
       "4            5         0       3   \n",
       "\n",
       "                                                Name     Sex   Age  SibSp  \\\n",
       "0                            Braund, Mr. Owen Harris    male  22.0      1   \n",
       "1  Cumings, Mrs. John Bradley (Florence Briggs Th...  female  38.0      1   \n",
       "2                             Heikkinen, Miss. Laina  female  26.0      0   \n",
       "3       Futrelle, Mrs. Jacques Heath (Lily May Peel)  female  35.0      1   \n",
       "4                           Allen, Mr. William Henry    male  35.0      0   \n",
       "\n",
       "   Parch            Ticket     Fare Cabin Embarked  \n",
       "0      0         A/5 21171   7.2500   NaN        S  \n",
       "1      0          PC 17599  71.2833   C85        C  \n",
       "2      0  STON/O2. 3101282   7.9250   NaN        S  \n",
       "3      0            113803  53.1000  C123        S  \n",
       "4      0            373450   8.0500   NaN        S  "
      ]
     },
     "metadata": {},
     "output_type": "display_data"
    }
   ],
   "source": [
    "full_data = pd.read_csv(r\"D:\\AMIT Course\\Data Set\\Titanic\\titanic_data.csv\")\n",
    "display(full_data.head())"
   ]
  },
  {
   "cell_type": "markdown",
   "metadata": {},
   "source": [
    "# Feature Selection and Preprocessing"
   ]
  },
  {
   "cell_type": "code",
   "execution_count": 3,
   "metadata": {},
   "outputs": [
    {
     "data": {
      "text/html": [
       "<div>\n",
       "<style scoped>\n",
       "    .dataframe tbody tr th:only-of-type {\n",
       "        vertical-align: middle;\n",
       "    }\n",
       "\n",
       "    .dataframe tbody tr th {\n",
       "        vertical-align: top;\n",
       "    }\n",
       "\n",
       "    .dataframe thead th {\n",
       "        text-align: right;\n",
       "    }\n",
       "</style>\n",
       "<table border=\"1\" class=\"dataframe\">\n",
       "  <thead>\n",
       "    <tr style=\"text-align: right;\">\n",
       "      <th></th>\n",
       "      <th>Pclass</th>\n",
       "      <th>Sex</th>\n",
       "      <th>Age</th>\n",
       "      <th>SibSp</th>\n",
       "      <th>Parch</th>\n",
       "      <th>Fare</th>\n",
       "      <th>Embarked</th>\n",
       "    </tr>\n",
       "  </thead>\n",
       "  <tbody>\n",
       "    <tr>\n",
       "      <th>0</th>\n",
       "      <td>3</td>\n",
       "      <td>male</td>\n",
       "      <td>22.0</td>\n",
       "      <td>1</td>\n",
       "      <td>0</td>\n",
       "      <td>7.2500</td>\n",
       "      <td>S</td>\n",
       "    </tr>\n",
       "    <tr>\n",
       "      <th>1</th>\n",
       "      <td>1</td>\n",
       "      <td>female</td>\n",
       "      <td>38.0</td>\n",
       "      <td>1</td>\n",
       "      <td>0</td>\n",
       "      <td>71.2833</td>\n",
       "      <td>C</td>\n",
       "    </tr>\n",
       "    <tr>\n",
       "      <th>2</th>\n",
       "      <td>3</td>\n",
       "      <td>female</td>\n",
       "      <td>26.0</td>\n",
       "      <td>0</td>\n",
       "      <td>0</td>\n",
       "      <td>7.9250</td>\n",
       "      <td>S</td>\n",
       "    </tr>\n",
       "    <tr>\n",
       "      <th>3</th>\n",
       "      <td>1</td>\n",
       "      <td>female</td>\n",
       "      <td>35.0</td>\n",
       "      <td>1</td>\n",
       "      <td>0</td>\n",
       "      <td>53.1000</td>\n",
       "      <td>S</td>\n",
       "    </tr>\n",
       "    <tr>\n",
       "      <th>4</th>\n",
       "      <td>3</td>\n",
       "      <td>male</td>\n",
       "      <td>35.0</td>\n",
       "      <td>0</td>\n",
       "      <td>0</td>\n",
       "      <td>8.0500</td>\n",
       "      <td>S</td>\n",
       "    </tr>\n",
       "  </tbody>\n",
       "</table>\n",
       "</div>"
      ],
      "text/plain": [
       "   Pclass     Sex   Age  SibSp  Parch     Fare Embarked\n",
       "0       3    male  22.0      1      0   7.2500        S\n",
       "1       1  female  38.0      1      0  71.2833        C\n",
       "2       3  female  26.0      0      0   7.9250        S\n",
       "3       1  female  35.0      1      0  53.1000        S\n",
       "4       3    male  35.0      0      0   8.0500        S"
      ]
     },
     "metadata": {},
     "output_type": "display_data"
    }
   ],
   "source": [
    "y = full_data['Survived']\n",
    "x= full_data.drop(['Survived','PassengerId','Name','Ticket','Cabin'], axis = 1)\n",
    "display(x.head())"
   ]
  },
  {
   "cell_type": "code",
   "execution_count": 4,
   "metadata": {},
   "outputs": [],
   "source": [
    "x = pd.get_dummies(x)"
   ]
  },
  {
   "cell_type": "code",
   "execution_count": 5,
   "metadata": {},
   "outputs": [
    {
     "data": {
      "text/html": [
       "<div>\n",
       "<style scoped>\n",
       "    .dataframe tbody tr th:only-of-type {\n",
       "        vertical-align: middle;\n",
       "    }\n",
       "\n",
       "    .dataframe tbody tr th {\n",
       "        vertical-align: top;\n",
       "    }\n",
       "\n",
       "    .dataframe thead th {\n",
       "        text-align: right;\n",
       "    }\n",
       "</style>\n",
       "<table border=\"1\" class=\"dataframe\">\n",
       "  <thead>\n",
       "    <tr style=\"text-align: right;\">\n",
       "      <th></th>\n",
       "      <th>Pclass</th>\n",
       "      <th>Age</th>\n",
       "      <th>SibSp</th>\n",
       "      <th>Parch</th>\n",
       "      <th>Fare</th>\n",
       "      <th>Sex_female</th>\n",
       "      <th>Sex_male</th>\n",
       "      <th>Embarked_C</th>\n",
       "      <th>Embarked_Q</th>\n",
       "      <th>Embarked_S</th>\n",
       "    </tr>\n",
       "  </thead>\n",
       "  <tbody>\n",
       "    <tr>\n",
       "      <th>0</th>\n",
       "      <td>3</td>\n",
       "      <td>22.0</td>\n",
       "      <td>1</td>\n",
       "      <td>0</td>\n",
       "      <td>7.2500</td>\n",
       "      <td>False</td>\n",
       "      <td>True</td>\n",
       "      <td>False</td>\n",
       "      <td>False</td>\n",
       "      <td>True</td>\n",
       "    </tr>\n",
       "    <tr>\n",
       "      <th>1</th>\n",
       "      <td>1</td>\n",
       "      <td>38.0</td>\n",
       "      <td>1</td>\n",
       "      <td>0</td>\n",
       "      <td>71.2833</td>\n",
       "      <td>True</td>\n",
       "      <td>False</td>\n",
       "      <td>True</td>\n",
       "      <td>False</td>\n",
       "      <td>False</td>\n",
       "    </tr>\n",
       "    <tr>\n",
       "      <th>2</th>\n",
       "      <td>3</td>\n",
       "      <td>26.0</td>\n",
       "      <td>0</td>\n",
       "      <td>0</td>\n",
       "      <td>7.9250</td>\n",
       "      <td>True</td>\n",
       "      <td>False</td>\n",
       "      <td>False</td>\n",
       "      <td>False</td>\n",
       "      <td>True</td>\n",
       "    </tr>\n",
       "    <tr>\n",
       "      <th>3</th>\n",
       "      <td>1</td>\n",
       "      <td>35.0</td>\n",
       "      <td>1</td>\n",
       "      <td>0</td>\n",
       "      <td>53.1000</td>\n",
       "      <td>True</td>\n",
       "      <td>False</td>\n",
       "      <td>False</td>\n",
       "      <td>False</td>\n",
       "      <td>True</td>\n",
       "    </tr>\n",
       "    <tr>\n",
       "      <th>4</th>\n",
       "      <td>3</td>\n",
       "      <td>35.0</td>\n",
       "      <td>0</td>\n",
       "      <td>0</td>\n",
       "      <td>8.0500</td>\n",
       "      <td>False</td>\n",
       "      <td>True</td>\n",
       "      <td>False</td>\n",
       "      <td>False</td>\n",
       "      <td>True</td>\n",
       "    </tr>\n",
       "  </tbody>\n",
       "</table>\n",
       "</div>"
      ],
      "text/plain": [
       "   Pclass   Age  SibSp  Parch     Fare  Sex_female  Sex_male  Embarked_C  \\\n",
       "0       3  22.0      1      0   7.2500       False      True       False   \n",
       "1       1  38.0      1      0  71.2833        True     False        True   \n",
       "2       3  26.0      0      0   7.9250        True     False       False   \n",
       "3       1  35.0      1      0  53.1000        True     False       False   \n",
       "4       3  35.0      0      0   8.0500       False      True       False   \n",
       "\n",
       "   Embarked_Q  Embarked_S  \n",
       "0       False        True  \n",
       "1       False       False  \n",
       "2       False        True  \n",
       "3       False        True  \n",
       "4       False        True  "
      ]
     },
     "metadata": {},
     "output_type": "display_data"
    }
   ],
   "source": [
    "x = x.fillna(0.0)\n",
    "display(x.head())"
   ]
  },
  {
   "cell_type": "markdown",
   "metadata": {},
   "source": [
    "# Checking Unique Values in Certain Features"
   ]
  },
  {
   "cell_type": "code",
   "execution_count": 6,
   "metadata": {},
   "outputs": [
    {
     "name": "stdout",
     "output_type": "stream",
     "text": [
      "[1 0 3 4 2 5 8]\n"
     ]
    }
   ],
   "source": [
    "print(x['SibSp'].unique())"
   ]
  },
  {
   "cell_type": "code",
   "execution_count": 7,
   "metadata": {},
   "outputs": [
    {
     "name": "stdout",
     "output_type": "stream",
     "text": [
      "[0 1 2 5 3 4 6]\n"
     ]
    }
   ],
   "source": [
    "print(x['Parch'].unique())"
   ]
  },
  {
   "cell_type": "code",
   "execution_count": 8,
   "metadata": {},
   "outputs": [
    {
     "name": "stdout",
     "output_type": "stream",
     "text": [
      "[22.   38.   26.   35.    0.   54.    2.   27.   14.    4.   58.   20.\n",
      " 39.   55.   31.   34.   15.   28.    8.   19.   40.   66.   42.   21.\n",
      " 18.    3.    7.   49.   29.   65.   28.5   5.   11.   45.   17.   32.\n",
      " 16.   25.    0.83 30.   33.   23.   24.   46.   59.   71.   37.   47.\n",
      " 14.5  70.5  32.5  12.    9.   36.5  51.   55.5  40.5  44.    1.   61.\n",
      " 56.   50.   36.   45.5  20.5  62.   41.   52.   63.   23.5   0.92 43.\n",
      " 60.   10.   64.   13.   48.    0.75 53.   57.   80.   70.   24.5   6.\n",
      "  0.67 30.5   0.42 34.5  74.  ]\n"
     ]
    }
   ],
   "source": [
    "print(x['Age'].unique())"
   ]
  },
  {
   "cell_type": "code",
   "execution_count": 9,
   "metadata": {},
   "outputs": [
    {
     "name": "stdout",
     "output_type": "stream",
     "text": [
      "[3 1 2]\n"
     ]
    }
   ],
   "source": [
    "print(x['Pclass'].unique())"
   ]
  },
  {
   "cell_type": "markdown",
   "metadata": {},
   "source": [
    "# Visualizing Survival Counts by Gender"
   ]
  },
  {
   "cell_type": "code",
   "execution_count": 10,
   "metadata": {},
   "outputs": [
    {
     "data": {
      "text/plain": [
       "Text(0.5, 0, 'number of passengers who survived and not survived with respect they are all females')"
      ]
     },
     "execution_count": 10,
     "metadata": {},
     "output_type": "execute_result"
    }
   ],
   "source": [
    "female_data=full_data[full_data[\"Sex\"] == \"female\"]\n",
    "sns.countplot(data=female_data,x='Survived')\n",
    "plt.xlabel(\"number of passengers who survived and not survived with respect they are all females\")"
   ]
  },
  {
   "cell_type": "code",
   "execution_count": 11,
   "metadata": {},
   "outputs": [
    {
     "data": {
      "text/plain": [
       "Text(0.5, 23.52222222222222, 'number of passengers who survived and not survived with respect they are all males')"
      ]
     },
     "execution_count": 11,
     "metadata": {},
     "output_type": "execute_result"
    }
   ],
   "source": [
    "male_data=full_data[full_data[\"Sex\"] == \"male\"]\n",
    "sns.countplot(data=male_data,x='Survived')\n",
    "plt.xlabel(\"number of passengers who survived and not survived with respect they are all males\")"
   ]
  },
  {
   "cell_type": "markdown",
   "metadata": {},
   "source": [
    "# Side-by-Side Gender Survival Visualization"
   ]
  },
  {
   "cell_type": "code",
   "execution_count": 12,
   "metadata": {},
   "outputs": [
    {
     "data": {
      "text/plain": [
       "Text(0.5, 0, 'all females')"
      ]
     },
     "execution_count": 12,
     "metadata": {},
     "output_type": "execute_result"
    }
   ],
   "source": [
    "plt.figure(figsize = [10, 5])\n",
    "plt.subplot(1, 2, 1) \n",
    "sns.countplot(data=male_data,x='Survived')\n",
    "plt.xlabel(\"all males\")\n",
    "plt.subplot(1, 2, 2)\n",
    "sns.countplot(data=female_data,x='Survived')\n",
    "ylabel=np.arange(0,600,100)\n",
    "plt.yticks(ylabel)\n",
    "plt.xlabel(\"all females\")"
   ]
  },
  {
   "cell_type": "markdown",
   "metadata": {},
   "source": [
    "# Exploring Column Names"
   ]
  },
  {
   "cell_type": "code",
   "execution_count": 13,
   "metadata": {},
   "outputs": [
    {
     "name": "stdout",
     "output_type": "stream",
     "text": [
      "Index(['PassengerId', 'Survived', 'Pclass', 'Name', 'Sex', 'Age', 'SibSp',\n",
      "       'Parch', 'Ticket', 'Fare', 'Cabin', 'Embarked'],\n",
      "      dtype='object')\n"
     ]
    }
   ],
   "source": [
    "print(full_data.columns)"
   ]
  },
  {
   "cell_type": "markdown",
   "metadata": {},
   "source": [
    "# First Prediction Rule – Gender Based"
   ]
  },
  {
   "cell_type": "code",
   "execution_count": 14,
   "metadata": {},
   "outputs": [],
   "source": [
    "def predictions_1(data):\n",
    "    predictions = []\n",
    "    for i, passenger in data.iterrows():\n",
    "        if passenger[\"Sex\"] == \"female\":\n",
    "            predictions.append(1)\n",
    "        else:\n",
    "            predictions.append(0)\n",
    "    return pd.Series(predictions)\n",
    "\n",
    "x = full_data  \n",
    "predictions = predictions_1(x)\n"
   ]
  },
  {
   "cell_type": "code",
   "execution_count": 15,
   "metadata": {},
   "outputs": [
    {
     "name": "stdout",
     "output_type": "stream",
     "text": [
      "0.7867564534231201\n"
     ]
    }
   ],
   "source": [
    "print(accuracy_score(y, predictions))"
   ]
  },
  {
   "cell_type": "markdown",
   "metadata": {},
   "source": [
    "# Visualizing Male Age vs Survival"
   ]
  },
  {
   "cell_type": "code",
   "execution_count": 16,
   "metadata": {},
   "outputs": [
    {
     "data": {
      "text/plain": [
       "Text(0.5, 25.722222222222214, 'males survival rate with respect to age ')"
      ]
     },
     "execution_count": 16,
     "metadata": {},
     "output_type": "execute_result"
    }
   ],
   "source": [
    "male_data_nsurv=full_data[(full_data[\"Sex\"] == \"male\") &(y == 0)] \n",
    "male_data_surv=full_data[(full_data[\"Sex\"] == \"male\") & (y == 1)]  \n",
    "bins=np.arange(0,full_data['Age'].max()+10,10)\n",
    "plt.hist(data=male_data_nsurv,x='Age',bins=bins,color=\"red\")\n",
    "plt.hist(data=male_data_surv,x='Age',bins=bins,color=\"blue\")\n",
    "plt.xlabel(\"males survival rate with respect to age \")"
   ]
  },
  {
   "cell_type": "markdown",
   "metadata": {},
   "source": [
    "# Second Prediction Rule – Add Age Condition for Males"
   ]
  },
  {
   "cell_type": "code",
   "execution_count": 17,
   "metadata": {},
   "outputs": [],
   "source": [
    "def predictions_2(data):\n",
    "    predictions = []\n",
    "    for i,passenger in data.iterrows():\n",
    "        if (passenger['Sex']=='female') or (passenger['Sex']=='male'and passenger['Age']<10):\n",
    "            \n",
    "            predictions.append(1)\n",
    "        else:\n",
    "            predictions.append(0)\n",
    "    \n",
    "    return pd.Series(predictions)\n",
    "predictions = predictions_2(x)"
   ]
  },
  {
   "cell_type": "code",
   "execution_count": 18,
   "metadata": {},
   "outputs": [
    {
     "name": "stdout",
     "output_type": "stream",
     "text": [
      "0.7934904601571269\n"
     ]
    }
   ],
   "source": [
    "print(accuracy_score(y, predictions))"
   ]
  },
  {
   "cell_type": "markdown",
   "metadata": {},
   "source": [
    "# Visualizing Survival of Males < 18"
   ]
  },
  {
   "cell_type": "code",
   "execution_count": 19,
   "metadata": {},
   "outputs": [
    {
     "data": {
      "text/plain": [
       "Text(0.5, 25.722222222222214, 'males survival rate with respect to age < 18 ')"
      ]
     },
     "execution_count": 19,
     "metadata": {},
     "output_type": "execute_result"
    }
   ],
   "source": [
    "male_data_nsurv=full_data[(full_data[\"Sex\"] == \"male\") & (full_data[\"Survived\"] == 0) & (full_data[\"Age\"] < 18)] # red\n",
    "male_data_surv=full_data[(full_data[\"Sex\"] == \"male\") & (full_data[\"Survived\"] == 1) & (full_data[\"Age\"] < 18)]  # blue\n",
    "bins=np.arange(0,25,10)\n",
    "plt.hist(data=male_data_nsurv,x='Age',bins=bins,color=\"red\")\n",
    "plt.hist(data=male_data_surv,x='Age',bins=bins,color=\"blue\")\n",
    "plt.xlabel(\"males survival rate with respect to age < 18 \")"
   ]
  },
  {
   "cell_type": "markdown",
   "metadata": {},
   "source": [
    "# Female Survival vs. Parch Feature"
   ]
  },
  {
   "cell_type": "code",
   "execution_count": 20,
   "metadata": {},
   "outputs": [
    {
     "data": {
      "text/plain": [
       "Text(0.5, 25.722222222222214, 'number of females passengers who survived and not survived with respect to the number of parch = 1')"
      ]
     },
     "execution_count": 20,
     "metadata": {},
     "output_type": "execute_result"
    }
   ],
   "source": [
    "female_data_parch=full_data[(full_data[\"Sex\"] == \"female\") & (full_data[\"Parch\"] == 1 ) ]\n",
    "sns.countplot(data=female_data_parch,x='Survived')\n",
    "plt.xlabel(\"number of females passengers who survived and not survived with respect to the number of parch = 1\")"
   ]
  },
  {
   "cell_type": "code",
   "execution_count": 21,
   "metadata": {},
   "outputs": [
    {
     "data": {
      "text/plain": [
       "Text(0.5, 25.722222222222214, 'number of females passengers who survived and not survived with respect to the number of parch =2')"
      ]
     },
     "execution_count": 21,
     "metadata": {},
     "output_type": "execute_result"
    }
   ],
   "source": [
    "female_data_parch=full_data[(full_data[\"Sex\"] == \"female\") & (full_data[\"Parch\"] == 2 ) ]\n",
    "sns.countplot(data=female_data_parch,x='Survived')\n",
    "plt.xlabel(\"number of females passengers who survived and not survived with respect to the number of parch =2\")"
   ]
  },
  {
   "cell_type": "code",
   "execution_count": 22,
   "metadata": {},
   "outputs": [
    {
     "data": {
      "text/plain": [
       "Text(0.5, 25.722222222222214, 'number of females who survived and not with respect to the number of parch =3')"
      ]
     },
     "execution_count": 22,
     "metadata": {},
     "output_type": "execute_result"
    }
   ],
   "source": [
    "female_data_parch=full_data[(full_data[\"Sex\"] == \"female\") & (full_data[\"Parch\"] == 3 ) ]\n",
    "sns.countplot(data=female_data_parch,x='Survived')\n",
    "plt.xlabel(\"number of females who survived and not with respect to the number of parch =3\")"
   ]
  },
  {
   "cell_type": "code",
   "execution_count": 23,
   "metadata": {},
   "outputs": [
    {
     "data": {
      "text/plain": [
       "Text(0.5, 25.722222222222214, 'number of females passengers who survived and not survived with respect to the number of parch =4')"
      ]
     },
     "execution_count": 23,
     "metadata": {},
     "output_type": "execute_result"
    }
   ],
   "source": [
    "female_data_parch=full_data[(full_data[\"Sex\"] == \"female\") & (full_data[\"Parch\"] == 4 ) ]\n",
    "sns.countplot(data=female_data_parch,x='Survived')\n",
    "plt.xlabel(\"number of females passengers who survived and not survived with respect to the number of parch =4\")"
   ]
  },
  {
   "cell_type": "code",
   "execution_count": 24,
   "metadata": {},
   "outputs": [
    {
     "data": {
      "text/plain": [
       "Text(0.5, 25.722222222222214, 'number of females passengers who survived and not survived with respect to the number of parch >= 4')"
      ]
     },
     "execution_count": 24,
     "metadata": {},
     "output_type": "execute_result"
    }
   ],
   "source": [
    "female_data_parch=full_data[(full_data[\"Sex\"] == \"female\") & (full_data[\"Parch\"] >= 4) ]\n",
    "sns.countplot(data=female_data_parch,x='Survived')\n",
    "plt.xlabel(\"number of females passengers who survived and not survived with respect to the number of parch >= 4\")"
   ]
  },
  {
   "cell_type": "code",
   "execution_count": 25,
   "metadata": {},
   "outputs": [
    {
     "data": {
      "text/plain": [
       "Text(0.5, 25.722222222222214, 'number of females passengers who survived and not survived with respect to the number of parch <4')"
      ]
     },
     "execution_count": 25,
     "metadata": {},
     "output_type": "execute_result"
    }
   ],
   "source": [
    "female_data_parch=full_data[(full_data[\"Sex\"] == \"female\") & (full_data[\"Parch\"] < 4 ) ]\n",
    "sns.countplot(data=female_data_parch,x='Survived')\n",
    "plt.xlabel(\"number of females passengers who survived and not survived with respect to the number of parch <4\")"
   ]
  },
  {
   "cell_type": "markdown",
   "metadata": {},
   "source": [
    "# Male Survival vs. Passenger Class"
   ]
  },
  {
   "cell_type": "code",
   "execution_count": 26,
   "metadata": {},
   "outputs": [
    {
     "data": {
      "text/plain": [
       "Text(0.5, 25.722222222222214, 'number of males passengers who survived and not survived with respect they are all in Pclass (1)')"
      ]
     },
     "execution_count": 26,
     "metadata": {},
     "output_type": "execute_result"
    }
   ],
   "source": [
    "male_data_class=full_data[(full_data[\"Sex\"] == \"male\") & (full_data[\"Pclass\"] == 1)]\n",
    "sns.countplot(data=male_data_class,x='Survived')\n",
    "plt.xlabel(\"number of males passengers who survived and not survived with respect they are all in Pclass (1)\")"
   ]
  },
  {
   "cell_type": "code",
   "execution_count": 27,
   "metadata": {},
   "outputs": [
    {
     "data": {
      "text/plain": [
       "Text(0.5, 25.722222222222214, 'number of males passengers who survived and not survived with respect they are all in Pclass (2)')"
      ]
     },
     "execution_count": 27,
     "metadata": {},
     "output_type": "execute_result"
    }
   ],
   "source": [
    "male_data_class=full_data[(full_data[\"Sex\"] == \"male\") & (full_data[\"Pclass\"] == 2)]\n",
    "sns.countplot(data=male_data_class,x='Survived')\n",
    "plt.xlabel(\"number of males passengers who survived and not survived with respect they are all in Pclass (2)\")"
   ]
  },
  {
   "cell_type": "code",
   "execution_count": 28,
   "metadata": {},
   "outputs": [
    {
     "data": {
      "text/plain": [
       "Text(0.5, 25.722222222222214, 'number of males passengers who survived and not survived with respect they are all in Pclass (3)')"
      ]
     },
     "execution_count": 28,
     "metadata": {},
     "output_type": "execute_result"
    }
   ],
   "source": [
    "male_data_class=full_data[(full_data[\"Sex\"] == \"male\") & (full_data[\"Pclass\"] == 3)]\n",
    "sns.countplot(data=male_data_class,x='Survived')\n",
    "plt.xlabel(\"number of males passengers who survived and not survived with respect they are all in Pclass (3)\")"
   ]
  },
  {
   "cell_type": "markdown",
   "metadata": {},
   "source": [
    "# Male Survival vs. Embarked Port (Incorrectly Used Data)"
   ]
  },
  {
   "cell_type": "code",
   "execution_count": 29,
   "metadata": {},
   "outputs": [
    {
     "data": {
      "text/plain": [
       "Text(0.5, 25.722222222222214, 'number of males passengers who survived and not survived with respect they are all in Pclass (3)')"
      ]
     },
     "execution_count": 29,
     "metadata": {},
     "output_type": "execute_result"
    }
   ],
   "source": [
    "embarked_class=full_data[(full_data[\"Sex\"] == \"male\") & (full_data[\"Embarked\"] == 'Q')]\n",
    "sns.countplot(data=male_data_class,x='Survived')\n",
    "plt.xlabel(\"number of males passengers who survived and not survived with respect they are all in Pclass (3)\")"
   ]
  },
  {
   "cell_type": "markdown",
   "metadata": {},
   "source": [
    "# Male Survival with SibSp ≤ 3"
   ]
  },
  {
   "cell_type": "code",
   "execution_count": 30,
   "metadata": {},
   "outputs": [
    {
     "data": {
      "text/plain": [
       "Text(0.5, 25.722222222222214, 'number of males passengers who survived and not survived with respect they are all in Pclass (3)')"
      ]
     },
     "execution_count": 30,
     "metadata": {},
     "output_type": "execute_result"
    }
   ],
   "source": [
    "embarked_class=full_data[(full_data[\"Sex\"] == \"male\") & (full_data[\"Embarked\"] == 'S')]\n",
    "sns.countplot(data=male_data_class,x='Survived')\n",
    "plt.xlabel(\"number of males passengers who survived and not survived with respect they are all in Pclass (3)\")"
   ]
  },
  {
   "cell_type": "code",
   "execution_count": 31,
   "metadata": {},
   "outputs": [
    {
     "data": {
      "text/plain": [
       "Text(0.5, 25.722222222222214, 'number of males passengers who survived and not survived with respect they are all in Pclass (3)')"
      ]
     },
     "execution_count": 31,
     "metadata": {},
     "output_type": "execute_result"
    }
   ],
   "source": [
    "embarked_class=full_data[(full_data[\"Sex\"] == \"male\") & (full_data[\"Embarked\"] == 'C')]\n",
    "sns.countplot(data=male_data_class,x='Survived')\n",
    "plt.xlabel(\"number of males passengers who survived and not survived with respect they are all in Pclass (3)\")"
   ]
  },
  {
   "cell_type": "code",
   "execution_count": 32,
   "metadata": {},
   "outputs": [
    {
     "data": {
      "text/plain": [
       "Text(0.5, 25.722222222222214, 'number of males passengers who survived and not survived with respect they are all in Pclass (3)')"
      ]
     },
     "execution_count": 32,
     "metadata": {},
     "output_type": "execute_result"
    }
   ],
   "source": [
    "embarked_class=full_data[(full_data[\"Sex\"] == \"male\") & (full_data[\"Embarked\"] == '0')]\n",
    "sns.countplot(data=male_data_class,x='Survived')\n",
    "plt.xlabel(\"number of males passengers who survived and not survived with respect they are all in Pclass (3)\")"
   ]
  },
  {
   "cell_type": "code",
   "execution_count": 33,
   "metadata": {},
   "outputs": [
    {
     "data": {
      "text/plain": [
       "Text(0.5, 25.722222222222214, 'number of males passengers who survived and not survived with respect they are all in Pclass (3)')"
      ]
     },
     "execution_count": 33,
     "metadata": {},
     "output_type": "execute_result"
    }
   ],
   "source": [
    "embarked_class=full_data[(full_data[\"Sex\"] == \"male\") & (full_data[\"SibSp\"] <= 3)]\n",
    "sns.countplot(data=male_data_class,x='Survived')\n",
    "plt.xlabel(\"number of males passengers who survived and not survived with respect they are all in Pclass (3)\")"
   ]
  },
  {
   "cell_type": "markdown",
   "metadata": {},
   "source": [
    "# Visualizing Age Distribution for Males in Pclass = 1"
   ]
  },
  {
   "cell_type": "code",
   "execution_count": 34,
   "metadata": {},
   "outputs": [
    {
     "data": {
      "text/plain": [
       "Text(0.5, 25.722222222222214, 'males survival rate with respect to age and class(1)')"
      ]
     },
     "execution_count": 34,
     "metadata": {},
     "output_type": "execute_result"
    }
   ],
   "source": [
    "male_data_class_n=full_data[(full_data[\"Sex\"] == \"male\") & (full_data[\"Pclass\"] == 1) & (full_data[\"Survived\"] == 0)] #red\n",
    "male_data_class_s=full_data[(full_data[\"Sex\"] == \"male\") & (full_data[\"Pclass\"] == 1) & (full_data[\"Survived\"] == 1)] #blue\n",
    "bins=np.arange(0,full_data['Age'].max()+10,10)\n",
    "plt.hist(data=male_data_class_n,x='Age',bins=bins,color=\"red\")\n",
    "plt.hist(data=male_data_class_s,x='Age',bins=bins,color=\"blue\")\n",
    "plt.xlabel(\"males survival rate with respect to age and class(1)\")"
   ]
  },
  {
   "cell_type": "markdown",
   "metadata": {},
   "source": [
    "# Third Prediction Rule – Advanced Conditions"
   ]
  },
  {
   "cell_type": "code",
   "execution_count": 35,
   "metadata": {},
   "outputs": [],
   "source": [
    "def predictions_3(data):\n",
    "    predictions = []\n",
    "    for i, passenger in data.iterrows():\n",
    "        if (passenger['Sex']=='female' and passenger['Parch']<4) or(passenger['Sex']=='male' and passenger['Age']<10) or(passenger['Sex']=='male'and (30<passenger['Age']<40)and passenger['Pclass']==1):\n",
    "            predictions.append(1)\n",
    "        else:\n",
    "            predictions.append(0)\n",
    "    \n",
    "    return pd.Series(predictions)\n",
    "predictions = predictions_3(x)"
   ]
  },
  {
   "cell_type": "code",
   "execution_count": 36,
   "metadata": {},
   "outputs": [
    {
     "name": "stdout",
     "output_type": "stream",
     "text": [
      "0.8013468013468014\n"
     ]
    }
   ],
   "source": [
    "print(accuracy_score(y, predictions))"
   ]
  },
  {
   "cell_type": "markdown",
   "metadata": {},
   "source": [
    "# description "
   ]
  },
  {
   "cell_type": "markdown",
   "metadata": {},
   "source": [
    "# Titanic Survival Prediction: Exploratory Data Analysis & Rule-Based Modeling\n",
    "#### This project analyzes the Titanic passenger dataset to identify key survival patterns and implement rule-based prediction models. It is an exploratory and educational project that applies data preprocessing, visualization, and basic algorithmic logic to understand how various demographic and travel-related factors influenced passenger survival during the Titanic disaster.\n",
    "\n",
    "## Project Objectives\n",
    "#### Perform exploratory data analysis (EDA) using visualizations to explore relationships between features like sex, age, class, and survival.\n",
    "\n",
    "#### Clean and transform the data using pandas and one-hot encoding.\n",
    "\n",
    "#### Develop and evaluate simple rule-based prediction models based on observed patterns in the dataset.\n",
    "\n",
    "#### Measure model performance using accuracy score from sklearn.metrics.\n",
    "\n",
    "## Key Features\n",
    "### Data Preprocessing:\n",
    "\n",
    "#### Removed non-informative features such as Name, Ticket, Cabin, and PassengerId.\n",
    "\n",
    "#### One-hot encoded categorical variables.\n",
    "\n",
    "#### Filled missing values with appropriate default values (e.g., 0.0).\n",
    "\n",
    "### Visualization:\n",
    "\n",
    "#### Plotted survival distributions across sex, age groups, number of parents/children aboard (Parch), class (Pclass), and embarkation point (Embarked).\n",
    "\n",
    "#### Used matplotlib and seaborn to create insightful visual comparisons.\n",
    "\n",
    "### Modeling:\n",
    "\n",
    "#### Implemented 3 simple rule-based models to predict survival:\n",
    "\n",
    "#### Model 1: All females survived; all males did not.\n",
    "\n",
    "#### Model 2: All females and males under 10 years old survived.\n",
    "\n",
    "#### Model 3: Includes females with fewer than 4 parents/children, males under 10, and males aged 30–40 in 1st class.\n",
    "\n",
    "### Evaluation:\n",
    "\n",
    "#### Achieved accuracy improvements with each model iteration:\n",
    "\n",
    "#### Model 1: ~78.7%\n",
    "\n",
    "#### Model 2: ~79.3%\n",
    "\n",
    "#### Model 3: ~80.1%\n",
    "\n",
    "## Dataset\n",
    "#### Source: titanic_data.csv\n",
    "\n",
    "#### Columns used: Survived, Sex, Age, Pclass, SibSp, Parch, Embarked\n",
    "\n",
    "## Technologies Used\n",
    "#### Python 3.x\n",
    "\n",
    "#### Pandas, NumPy for data manipulation\n",
    "\n",
    "#### Seaborn, Matplotlib for visualization\n",
    "\n",
    "#### Scikit-learn for evaluation metrics\n",
    "\n",
    "## How to Run\n",
    "### Install required libraries:\n",
    "\n",
    "#### bash\n",
    "#### Copy\n",
    "#### Edit\n",
    "#### pip install pandas numpy matplotlib seaborn scikit-learn\n",
    "#### Ensure the dataset path is correct:\n",
    "\n",
    "#### python\n",
    "#### Copy\n",
    "#### Edit\n",
    "#### full_data = pd.read_csv(\"path/to/titanic_data.csv\")\n",
    "#### Run the script in a Jupyter Notebook environment for full visualization support.\n",
    "\n",
    "## Insights\n",
    "#### This project demonstrates that even simple rule-based logic can yield surprisingly competitive results on binary classification problems, especially when guided by exploratory visual analysis. It also lays the groundwork for more complex machine learning models."
   ]
  }
 ],
 "metadata": {
  "kernelspec": {
   "display_name": "Python 3 (ipykernel)",
   "language": "python",
   "name": "python3"
  },
  "language_info": {
   "codemirror_mode": {
    "name": "ipython",
    "version": 3
   },
   "file_extension": ".py",
   "mimetype": "text/x-python",
   "name": "python",
   "nbconvert_exporter": "python",
   "pygments_lexer": "ipython3",
   "version": "3.12.7"
  }
 },
 "nbformat": 4,
 "nbformat_minor": 4
}
